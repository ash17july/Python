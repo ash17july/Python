{
 "cells": [
  {
   "cell_type": "code",
   "execution_count": 1,
   "id": "23bae173",
   "metadata": {},
   "outputs": [],
   "source": [
    "#What is pythom\n",
    "#Python is an interpreted, High level language, Object-Oriendted and dynamic type language\n",
    "#it has easy syntax as compare to other language"
   ]
  },
  {
   "cell_type": "code",
   "execution_count": 2,
   "id": "7d64ec88",
   "metadata": {},
   "outputs": [
    {
     "name": "stdout",
     "output_type": "stream",
     "text": [
      "Hello World\n"
     ]
    }
   ],
   "source": [
    "print('Hello World')"
   ]
  },
  {
   "cell_type": "code",
   "execution_count": 6,
   "id": "daa2a5bf",
   "metadata": {},
   "outputs": [
    {
     "name": "stdout",
     "output_type": "stream",
     "text": [
      "20\n",
      "10\n"
     ]
    }
   ],
   "source": [
    "#Variable\n",
    "a = 10\n",
    "b = 20\n",
    "print(b)\n",
    "print(a)"
   ]
  },
  {
   "cell_type": "code",
   "execution_count": 7,
   "id": "aed7534e",
   "metadata": {},
   "outputs": [
    {
     "name": "stdout",
     "output_type": "stream",
     "text": [
      "10 20\n"
     ]
    }
   ],
   "source": [
    "print(a,b)"
   ]
  },
  {
   "cell_type": "code",
   "execution_count": 8,
   "id": "2eb4ac31",
   "metadata": {},
   "outputs": [
    {
     "name": "stdout",
     "output_type": "stream",
     "text": [
      "1738920913488\n"
     ]
    }
   ],
   "source": [
    "print(id(a))"
   ]
  },
  {
   "cell_type": "code",
   "execution_count": 9,
   "id": "537170ee",
   "metadata": {},
   "outputs": [
    {
     "name": "stdout",
     "output_type": "stream",
     "text": [
      "1738920913808\n"
     ]
    }
   ],
   "source": [
    "print(id(b))"
   ]
  },
  {
   "cell_type": "code",
   "execution_count": 10,
   "id": "c464f357",
   "metadata": {},
   "outputs": [
    {
     "name": "stdout",
     "output_type": "stream",
     "text": [
      "Hello\n"
     ]
    }
   ],
   "source": [
    "A = 'Hello'\n",
    "print(A)"
   ]
  },
  {
   "cell_type": "code",
   "execution_count": 11,
   "id": "93a1dbb2",
   "metadata": {},
   "outputs": [
    {
     "name": "stdout",
     "output_type": "stream",
     "text": [
      "10\n"
     ]
    }
   ],
   "source": [
    "_ = 10\n",
    "print(_)"
   ]
  },
  {
   "cell_type": "code",
   "execution_count": 13,
   "id": "4bd752f6",
   "metadata": {},
   "outputs": [
    {
     "name": "stdout",
     "output_type": "stream",
     "text": [
      "5\n"
     ]
    }
   ],
   "source": [
    "a1 = 5\n",
    "print(a1)"
   ]
  },
  {
   "cell_type": "code",
   "execution_count": 14,
   "id": "308d59a9",
   "metadata": {},
   "outputs": [
    {
     "ename": "SyntaxError",
     "evalue": "invalid syntax (Temp/ipykernel_1276/4145002057.py, line 1)",
     "output_type": "error",
     "traceback": [
      "\u001b[1;36m  File \u001b[1;32m\"C:\\Users\\ADMINI~1\\AppData\\Local\\Temp/ipykernel_1276/4145002057.py\"\u001b[1;36m, line \u001b[1;32m1\u001b[0m\n\u001b[1;33m    1a = 5\u001b[0m\n\u001b[1;37m     ^\u001b[0m\n\u001b[1;31mSyntaxError\u001b[0m\u001b[1;31m:\u001b[0m invalid syntax\n"
     ]
    }
   ],
   "source": [
    "1a = 5\n",
    "print(1a)"
   ]
  },
  {
   "cell_type": "code",
   "execution_count": 15,
   "id": "af42523a",
   "metadata": {},
   "outputs": [
    {
     "name": "stdout",
     "output_type": "stream",
     "text": [
      "15\n"
     ]
    }
   ],
   "source": [
    "a_b = 15\n",
    "print(a_b)"
   ]
  },
  {
   "cell_type": "code",
   "execution_count": 16,
   "id": "8c39ca7b",
   "metadata": {},
   "outputs": [
    {
     "ename": "SyntaxError",
     "evalue": "invalid syntax (Temp/ipykernel_1276/837952254.py, line 1)",
     "output_type": "error",
     "traceback": [
      "\u001b[1;36m  File \u001b[1;32m\"C:\\Users\\ADMINI~1\\AppData\\Local\\Temp/ipykernel_1276/837952254.py\"\u001b[1;36m, line \u001b[1;32m1\u001b[0m\n\u001b[1;33m    @a = 10\u001b[0m\n\u001b[1;37m       ^\u001b[0m\n\u001b[1;31mSyntaxError\u001b[0m\u001b[1;31m:\u001b[0m invalid syntax\n"
     ]
    }
   ],
   "source": [
    "@a = 10\n",
    "print(@a)"
   ]
  },
  {
   "cell_type": "code",
   "execution_count": 17,
   "id": "c78b34fc",
   "metadata": {},
   "outputs": [
    {
     "name": "stdout",
     "output_type": "stream",
     "text": [
      "25\n"
     ]
    }
   ],
   "source": [
    "_a = 25\n",
    "print(_a)"
   ]
  },
  {
   "cell_type": "code",
   "execution_count": 19,
   "id": "2e0de8e8",
   "metadata": {},
   "outputs": [],
   "source": [
    "a = 'Hello'\n",
    "b = 'NetTech India'"
   ]
  },
  {
   "cell_type": "code",
   "execution_count": 20,
   "id": "c0cd777d",
   "metadata": {},
   "outputs": [
    {
     "name": "stdout",
     "output_type": "stream",
     "text": [
      "HelloNetTech India\n"
     ]
    }
   ],
   "source": [
    "print(a+b)"
   ]
  },
  {
   "cell_type": "code",
   "execution_count": 21,
   "id": "c8d5666c",
   "metadata": {},
   "outputs": [
    {
     "name": "stdout",
     "output_type": "stream",
     "text": [
      "Hello NetTech India\n"
     ]
    }
   ],
   "source": [
    "print(a+\" \"+b)"
   ]
  },
  {
   "cell_type": "code",
   "execution_count": 22,
   "id": "85506a52",
   "metadata": {},
   "outputs": [
    {
     "name": "stdout",
     "output_type": "stream",
     "text": [
      "50\n"
     ]
    }
   ],
   "source": [
    "c = 20\n",
    "print(c+30)"
   ]
  },
  {
   "cell_type": "code",
   "execution_count": 23,
   "id": "1d423f4c",
   "metadata": {},
   "outputs": [
    {
     "ename": "TypeError",
     "evalue": "can only concatenate str (not \"int\") to str",
     "output_type": "error",
     "traceback": [
      "\u001b[1;31m---------------------------------------------------------------------------\u001b[0m",
      "\u001b[1;31mTypeError\u001b[0m                                 Traceback (most recent call last)",
      "\u001b[1;32mC:\\Users\\ADMINI~1\\AppData\\Local\\Temp/ipykernel_1276/3340135973.py\u001b[0m in \u001b[0;36m<module>\u001b[1;34m\u001b[0m\n\u001b[1;32m----> 1\u001b[1;33m \u001b[0mprint\u001b[0m\u001b[1;33m(\u001b[0m\u001b[0ma\u001b[0m \u001b[1;33m+\u001b[0m \u001b[0mc\u001b[0m\u001b[1;33m)\u001b[0m\u001b[1;33m\u001b[0m\u001b[1;33m\u001b[0m\u001b[0m\n\u001b[0m",
      "\u001b[1;31mTypeError\u001b[0m: can only concatenate str (not \"int\") to str"
     ]
    }
   ],
   "source": [
    "print(a + c)"
   ]
  },
  {
   "cell_type": "code",
   "execution_count": 24,
   "id": "ae05fe33",
   "metadata": {},
   "outputs": [
    {
     "name": "stdout",
     "output_type": "stream",
     "text": [
      "Hello50\n"
     ]
    }
   ],
   "source": [
    "d = '50'\n",
    "print(a+d)"
   ]
  },
  {
   "cell_type": "code",
   "execution_count": 25,
   "id": "94907f4b",
   "metadata": {},
   "outputs": [
    {
     "name": "stdout",
     "output_type": "stream",
     "text": [
      "10\n",
      "NetTech India\n"
     ]
    },
    {
     "ename": "NameError",
     "evalue": "name 'hello' is not defined",
     "output_type": "error",
     "traceback": [
      "\u001b[1;31m---------------------------------------------------------------------------\u001b[0m",
      "\u001b[1;31mNameError\u001b[0m                                 Traceback (most recent call last)",
      "\u001b[1;32mC:\\Users\\ADMINI~1\\AppData\\Local\\Temp/ipykernel_1276/1539537288.py\u001b[0m in \u001b[0;36m<module>\u001b[1;34m\u001b[0m\n\u001b[0;32m      2\u001b[0m \u001b[0mprint\u001b[0m\u001b[1;33m(\u001b[0m\u001b[0ma\u001b[0m\u001b[1;33m)\u001b[0m\u001b[1;33m\u001b[0m\u001b[1;33m\u001b[0m\u001b[0m\n\u001b[0;32m      3\u001b[0m \u001b[0mprint\u001b[0m\u001b[1;33m(\u001b[0m\u001b[0mb\u001b[0m\u001b[1;33m)\u001b[0m\u001b[1;33m\u001b[0m\u001b[1;33m\u001b[0m\u001b[0m\n\u001b[1;32m----> 4\u001b[1;33m \u001b[0mc\u001b[0m \u001b[1;33m=\u001b[0m \u001b[0mhello\u001b[0m\u001b[1;33m\u001b[0m\u001b[1;33m\u001b[0m\u001b[0m\n\u001b[0m\u001b[0;32m      5\u001b[0m \u001b[0mprint\u001b[0m\u001b[1;33m(\u001b[0m\u001b[0mc\u001b[0m\u001b[1;33m)\u001b[0m\u001b[1;33m\u001b[0m\u001b[1;33m\u001b[0m\u001b[0m\n",
      "\u001b[1;31mNameError\u001b[0m: name 'hello' is not defined"
     ]
    }
   ],
   "source": [
    "a = 10\n",
    "print(a)\n",
    "print(b)\n",
    "c = hello\n",
    "print(c)"
   ]
  },
  {
   "cell_type": "code",
   "execution_count": 27,
   "id": "e4cac4fe",
   "metadata": {},
   "outputs": [
    {
     "name": "stdout",
     "output_type": "stream",
     "text": [
      "\n",
      "Here is a list of the Python keywords.  Enter any keyword to get more help.\n",
      "\n",
      "False               break               for                 not\n",
      "None                class               from                or\n",
      "True                continue            global              pass\n",
      "__peg_parser__      def                 if                  raise\n",
      "and                 del                 import              return\n",
      "as                  elif                in                  try\n",
      "assert              else                is                  while\n",
      "async               except              lambda              with\n",
      "await               finally             nonlocal            yield\n",
      "\n"
     ]
    }
   ],
   "source": [
    "#keyword in python which are known as reserved words\n",
    "help('keywords')"
   ]
  },
  {
   "cell_type": "code",
   "execution_count": 29,
   "id": "bce817bc",
   "metadata": {},
   "outputs": [],
   "source": [
    "#statements :Instructions that your write in your code and that a python interpreter can execute are\n",
    "#called statements\n",
    "a = 1+3+5"
   ]
  },
  {
   "cell_type": "code",
   "execution_count": 30,
   "id": "3079488b",
   "metadata": {},
   "outputs": [
    {
     "name": "stdout",
     "output_type": "stream",
     "text": [
      "Hello World\n"
     ]
    }
   ],
   "source": [
    "#Comments are nothing but the sentence that the python interpreter ignores\n",
    "#this is a comment\n",
    "print(\"Hello World\")"
   ]
  },
  {
   "cell_type": "code",
   "execution_count": 31,
   "id": "a45de4bd",
   "metadata": {},
   "outputs": [
    {
     "name": "stdout",
     "output_type": "stream",
     "text": [
      "Hello World\n"
     ]
    }
   ],
   "source": [
    "'''I start my comment from this line....\n",
    "still the comment\n",
    "same here .'''\n",
    "print(\"Hello World\")"
   ]
  },
  {
   "cell_type": "code",
   "execution_count": 32,
   "id": "86a473dd",
   "metadata": {},
   "outputs": [
    {
     "name": "stdout",
     "output_type": "stream",
     "text": [
      "my name\n"
     ]
    }
   ],
   "source": [
    "\"\"\"I start my comment from this line....\n",
    "still the comment\n",
    "same here \"\"\"\n",
    "print(\"my name\")"
   ]
  },
  {
   "cell_type": "code",
   "execution_count": 33,
   "id": "38bd69df",
   "metadata": {},
   "outputs": [],
   "source": [
    "#indentation\n",
    "#It refers to the spaces and tabs that are used at the beginning of a statement or a code we write"
   ]
  },
  {
   "cell_type": "markdown",
   "id": "cba71309",
   "metadata": {},
   "source": [
    "#Datatypes in python\n",
    "*integer\n",
    "*float\n",
    "*Complex\n",
    "*String\n",
    "*List\n",
    "*Set\n",
    "*Dictionary\n",
    "*Boolean\n",
    "*Range"
   ]
  },
  {
   "cell_type": "code",
   "execution_count": 34,
   "id": "fd1593d9",
   "metadata": {},
   "outputs": [
    {
     "name": "stdout",
     "output_type": "stream",
     "text": [
      "10\n",
      "<class 'int'>\n"
     ]
    }
   ],
   "source": [
    "a = 10\n",
    "print(a)\n",
    "print(type(a))"
   ]
  },
  {
   "cell_type": "code",
   "execution_count": 35,
   "id": "009a6ea0",
   "metadata": {},
   "outputs": [
    {
     "name": "stdout",
     "output_type": "stream",
     "text": [
      "10.2\n",
      "<class 'float'>\n"
     ]
    }
   ],
   "source": [
    "b = 10.2\n",
    "print(b)\n",
    "print(type(b))"
   ]
  },
  {
   "cell_type": "code",
   "execution_count": 37,
   "id": "47efebc5",
   "metadata": {},
   "outputs": [
    {
     "name": "stdout",
     "output_type": "stream",
     "text": [
      "2j\n",
      "<class 'complex'>\n"
     ]
    }
   ],
   "source": [
    "c = 2j\n",
    "print(c)\n",
    "print(type(c))"
   ]
  },
  {
   "cell_type": "code",
   "execution_count": 41,
   "id": "cfa20060",
   "metadata": {},
   "outputs": [
    {
     "name": "stdout",
     "output_type": "stream",
     "text": [
      "<class 'list'>\n"
     ]
    }
   ],
   "source": [
    "#Python list in ordered collection of elements\n",
    "l = ['apple','banana','cherry']\n",
    "print(type(l))"
   ]
  },
  {
   "cell_type": "code",
   "execution_count": 40,
   "id": "03cdbdf8",
   "metadata": {},
   "outputs": [
    {
     "name": "stdout",
     "output_type": "stream",
     "text": [
      "<class 'tuple'>\n"
     ]
    }
   ],
   "source": [
    "#Tuples are ordered collection of elements that are unchangeable\n",
    "t = ('apple','banana','cherry')\n",
    "print(type(t))"
   ]
  },
  {
   "cell_type": "code",
   "execution_count": 42,
   "id": "d369c9c3",
   "metadata": {},
   "outputs": [
    {
     "name": "stdout",
     "output_type": "stream",
     "text": [
      "<class 'set'>\n"
     ]
    }
   ],
   "source": [
    "#set is an unordered collection of data items that are unique\n",
    "s = {'apple','banana','cherry'}\n",
    "print(type(s))"
   ]
  },
  {
   "cell_type": "code",
   "execution_count": 43,
   "id": "536fb885",
   "metadata": {},
   "outputs": [
    {
     "name": "stdout",
     "output_type": "stream",
     "text": [
      "{'name': 'Ashwini'}\n",
      "<class 'dict'>\n"
     ]
    }
   ],
   "source": [
    "#Dictionaries are unordered collections of unique values ssored in (key-value)paires\n",
    "d = {'name':'Ashwini'}\n",
    "print(d)\n",
    "print(type(d))"
   ]
  },
  {
   "cell_type": "code",
   "execution_count": 44,
   "id": "2ef25ec4",
   "metadata": {},
   "outputs": [
    {
     "name": "stdout",
     "output_type": "stream",
     "text": [
      "True\n"
     ]
    }
   ],
   "source": [
    "#boolean values\n",
    "print(20>10)"
   ]
  },
  {
   "cell_type": "code",
   "execution_count": 49,
   "id": "3aef16dc",
   "metadata": {},
   "outputs": [
    {
     "name": "stdout",
     "output_type": "stream",
     "text": [
      "True\n"
     ]
    }
   ],
   "source": [
    "x = 25\n",
    "y = 20\n",
    "z = x>y\n",
    "print(z)"
   ]
  },
  {
   "cell_type": "code",
   "execution_count": 50,
   "id": "a7807c3b",
   "metadata": {},
   "outputs": [
    {
     "name": "stdout",
     "output_type": "stream",
     "text": [
      "<class 'bool'>\n"
     ]
    }
   ],
   "source": [
    "print(type(z))"
   ]
  },
  {
   "cell_type": "code",
   "execution_count": 51,
   "id": "2acab172",
   "metadata": {},
   "outputs": [
    {
     "name": "stdout",
     "output_type": "stream",
     "text": [
      "<class 'range'>\n"
     ]
    }
   ],
   "source": [
    "#built-in function range() use to generate a sequence of numbers from a start number\n",
    "numbers = range(10, 15, 1)\n",
    "print(type(numbers))"
   ]
  },
  {
   "cell_type": "code",
   "execution_count": 53,
   "id": "abf41f5b",
   "metadata": {},
   "outputs": [
    {
     "name": "stdout",
     "output_type": "stream",
     "text": [
      "range(10, 15, 2)\n"
     ]
    }
   ],
   "source": [
    "n = range(10,15,2)\n",
    "print(n)"
   ]
  },
  {
   "cell_type": "code",
   "execution_count": 54,
   "id": "194ba19f",
   "metadata": {},
   "outputs": [
    {
     "name": "stdout",
     "output_type": "stream",
     "text": [
      "<class 'range'>\n"
     ]
    }
   ],
   "source": [
    "print(type(n))"
   ]
  },
  {
   "cell_type": "code",
   "execution_count": 55,
   "id": "d510768e",
   "metadata": {},
   "outputs": [
    {
     "name": "stdout",
     "output_type": "stream",
     "text": [
      "Enter your name :ash\n",
      "My name is : ash\n"
     ]
    }
   ],
   "source": [
    "#Input and output\n",
    "my_name = input(\"Enter your name :\")\n",
    "print('My name is :',my_name)"
   ]
  },
  {
   "cell_type": "code",
   "execution_count": 56,
   "id": "b945a6df",
   "metadata": {},
   "outputs": [
    {
     "name": "stdout",
     "output_type": "stream",
     "text": [
      "<class 'str'>\n"
     ]
    }
   ],
   "source": [
    "print(type(my_name))"
   ]
  },
  {
   "cell_type": "code",
   "execution_count": 57,
   "id": "b1cb0a3c",
   "metadata": {},
   "outputs": [
    {
     "name": "stdout",
     "output_type": "stream",
     "text": [
      "Enter number :5\n",
      "Entered number is: 5\n"
     ]
    }
   ],
   "source": [
    "my_num = int(input(\"Enter number :\"))\n",
    "print(\"Entered number is:\",my_num)"
   ]
  },
  {
   "cell_type": "code",
   "execution_count": 58,
   "id": "14604de1",
   "metadata": {},
   "outputs": [
    {
     "name": "stdout",
     "output_type": "stream",
     "text": [
      "<class 'int'>\n"
     ]
    }
   ],
   "source": [
    "print(type(my_num))"
   ]
  },
  {
   "cell_type": "markdown",
   "id": "a60f009f",
   "metadata": {},
   "source": [
    "Arithematic Operator:\n",
    "\n",
    "1. Addition(+)\n",
    "2. Substraction(-)\n",
    "3. Multiplication(*)\n",
    "4. Division(/)\n",
    "5. Floor division(//)\n",
    "6. Modulus(%)\n",
    "7. Exponent(**)"
   ]
  },
  {
   "cell_type": "code",
   "execution_count": 59,
   "id": "19cfc49b",
   "metadata": {},
   "outputs": [
    {
     "name": "stdout",
     "output_type": "stream",
     "text": [
      "50\n"
     ]
    }
   ],
   "source": [
    "#Addition\n",
    "x = 10\n",
    "y = 40\n",
    "print(x + y)"
   ]
  },
  {
   "cell_type": "code",
   "execution_count": 60,
   "id": "ed79b732",
   "metadata": {},
   "outputs": [
    {
     "name": "stdout",
     "output_type": "stream",
     "text": [
      "-30\n"
     ]
    }
   ],
   "source": [
    "#Substraction\n",
    "print(x - y)"
   ]
  },
  {
   "cell_type": "code",
   "execution_count": 61,
   "id": "35dd64a1",
   "metadata": {},
   "outputs": [
    {
     "name": "stdout",
     "output_type": "stream",
     "text": [
      "400\n"
     ]
    }
   ],
   "source": [
    "#Multiplication\n",
    "print(x * y)"
   ]
  },
  {
   "cell_type": "code",
   "execution_count": 63,
   "id": "68a4da36",
   "metadata": {},
   "outputs": [
    {
     "name": "stdout",
     "output_type": "stream",
     "text": [
      "4.0\n"
     ]
    }
   ],
   "source": [
    "#Division\n",
    "print(y / x)"
   ]
  },
  {
   "cell_type": "code",
   "execution_count": 64,
   "id": "10a7cbfc",
   "metadata": {},
   "outputs": [
    {
     "name": "stdout",
     "output_type": "stream",
     "text": [
      "4\n"
     ]
    }
   ],
   "source": [
    "#floor division: returns the quotient \n",
    "print(y//x)"
   ]
  },
  {
   "cell_type": "code",
   "execution_count": 66,
   "id": "cbe671ea",
   "metadata": {},
   "outputs": [
    {
     "name": "stdout",
     "output_type": "stream",
     "text": [
      "10\n"
     ]
    }
   ],
   "source": [
    "#Modulus\n",
    "print(x%y)"
   ]
  },
  {
   "cell_type": "code",
   "execution_count": 67,
   "id": "7a19125b",
   "metadata": {},
   "outputs": [
    {
     "name": "stdout",
     "output_type": "stream",
     "text": [
      "4\n"
     ]
    }
   ],
   "source": [
    "#Exponent\n",
    "num = 2\n",
    "print(num**2)"
   ]
  },
  {
   "cell_type": "markdown",
   "id": "6c6eddf6",
   "metadata": {},
   "source": [
    "Relational Operator\n",
    "\n",
    "1. Greater than(>)\n",
    "2. Less than(<)\n",
    "3. Equal to(==)\n",
    "4. Not Equal to(!=)\n",
    "5. Greater than equal to(>=)\n",
    "6. Less than equal to (<=)"
   ]
  },
  {
   "cell_type": "code",
   "execution_count": 70,
   "id": "9e0168d5",
   "metadata": {},
   "outputs": [
    {
     "name": "stdout",
     "output_type": "stream",
     "text": [
      "True\n",
      "False\n"
     ]
    }
   ],
   "source": [
    "x = 10\n",
    "y = 5\n",
    "print(x>y)\n",
    "print(x<y)"
   ]
  },
  {
   "cell_type": "code",
   "execution_count": 71,
   "id": "79991da7",
   "metadata": {},
   "outputs": [
    {
     "name": "stdout",
     "output_type": "stream",
     "text": [
      "False\n",
      "True\n"
     ]
    }
   ],
   "source": [
    "print(x == y)\n",
    "print(x == 10)"
   ]
  },
  {
   "cell_type": "code",
   "execution_count": 74,
   "id": "5346449e",
   "metadata": {},
   "outputs": [
    {
     "name": "stdout",
     "output_type": "stream",
     "text": [
      "True\n",
      "False\n"
     ]
    }
   ],
   "source": [
    "print(y != x)\n",
    "print(10 != x)"
   ]
  },
  {
   "cell_type": "code",
   "execution_count": 75,
   "id": "6d39404e",
   "metadata": {},
   "outputs": [
    {
     "name": "stdout",
     "output_type": "stream",
     "text": [
      "True\n",
      "True\n"
     ]
    }
   ],
   "source": [
    "print(x >= y)\n",
    "print(10 >= x)"
   ]
  },
  {
   "cell_type": "code",
   "execution_count": 76,
   "id": "e3be61c2",
   "metadata": {
    "scrolled": true
   },
   "outputs": [
    {
     "name": "stdout",
     "output_type": "stream",
     "text": [
      "False\n",
      "True\n"
     ]
    }
   ],
   "source": [
    "print(x <= y)\n",
    "print(10 <= x)"
   ]
  },
  {
   "cell_type": "markdown",
   "id": "826563f1",
   "metadata": {},
   "source": [
    "Assignment Operator\n",
    "1. Assign (=)\n",
    "2. Add and Assign (+=)\n",
    "3. Substract and Assign (-=)\n",
    "4. Multiply and Assign (*=)\n",
    "5. Divide and Assign (/=)\n",
    "6. Floor Divide and Assign (//=)\n",
    "7. Modulus and Assign (%=)\n",
    "8. Exponent and Assign (*=)"
   ]
  },
  {
   "cell_type": "code",
   "execution_count": 77,
   "id": "55f9c0a0",
   "metadata": {},
   "outputs": [
    {
     "name": "stdout",
     "output_type": "stream",
     "text": [
      "6\n"
     ]
    }
   ],
   "source": [
    "a = 4\n",
    "b = 2\n",
    "\n",
    "a += b\n",
    "print(a)"
   ]
  },
  {
   "cell_type": "code",
   "execution_count": 78,
   "id": "de0c0031",
   "metadata": {},
   "outputs": [
    {
     "name": "stdout",
     "output_type": "stream",
     "text": [
      "2\n"
     ]
    }
   ],
   "source": [
    "a = 4\n",
    "a -= 2\n",
    "\n",
    "print(a)"
   ]
  },
  {
   "cell_type": "code",
   "execution_count": 79,
   "id": "a71a466a",
   "metadata": {},
   "outputs": [
    {
     "name": "stdout",
     "output_type": "stream",
     "text": [
      "8\n"
     ]
    }
   ],
   "source": [
    "a = 4\n",
    "a *= 2\n",
    "\n",
    "print(a)"
   ]
  },
  {
   "cell_type": "code",
   "execution_count": 80,
   "id": "3c31cd6e",
   "metadata": {},
   "outputs": [
    {
     "name": "stdout",
     "output_type": "stream",
     "text": [
      "2.0\n"
     ]
    }
   ],
   "source": [
    "a = 4\n",
    "a /= 2\n",
    "\n",
    "print(a)"
   ]
  },
  {
   "cell_type": "code",
   "execution_count": 81,
   "id": "cae1507d",
   "metadata": {},
   "outputs": [
    {
     "name": "stdout",
     "output_type": "stream",
     "text": [
      "2\n"
     ]
    }
   ],
   "source": [
    "a = 4\n",
    "a //= 2 \n",
    "\n",
    "print(a)"
   ]
  },
  {
   "cell_type": "code",
   "execution_count": 82,
   "id": "8f1f4b1e",
   "metadata": {},
   "outputs": [
    {
     "name": "stdout",
     "output_type": "stream",
     "text": [
      "16\n"
     ]
    }
   ],
   "source": [
    "a = 4\n",
    "a **= 2\n",
    "\n",
    "print(a)"
   ]
  },
  {
   "cell_type": "code",
   "execution_count": 83,
   "id": "9ad01e9f",
   "metadata": {},
   "outputs": [
    {
     "name": "stdout",
     "output_type": "stream",
     "text": [
      "1\n"
     ]
    }
   ],
   "source": [
    "a = 5\n",
    "a %= 2\n",
    "\n",
    "print(a)"
   ]
  },
  {
   "cell_type": "markdown",
   "id": "b04630c6",
   "metadata": {},
   "source": [
    "Logical Operator\n",
    "1. and\n",
    "2. or\n",
    "3. not"
   ]
  },
  {
   "cell_type": "code",
   "execution_count": 84,
   "id": "d80ccf68",
   "metadata": {},
   "outputs": [
    {
     "name": "stdout",
     "output_type": "stream",
     "text": [
      "True\n"
     ]
    }
   ],
   "source": [
    "x = 5\n",
    "print(x > 3 and x < 10)"
   ]
  },
  {
   "cell_type": "code",
   "execution_count": 86,
   "id": "90e8217f",
   "metadata": {},
   "outputs": [
    {
     "name": "stdout",
     "output_type": "stream",
     "text": [
      "20\n",
      "5\n",
      "300\n"
     ]
    }
   ],
   "source": [
    "#In the case of arithematic values, logical and always returns the second values\n",
    "print(10 and 20)\n",
    "print(10 and 5)\n",
    "print(100 and 300)"
   ]
  },
  {
   "cell_type": "code",
   "execution_count": 87,
   "id": "13dc63be",
   "metadata": {},
   "outputs": [
    {
     "name": "stdout",
     "output_type": "stream",
     "text": [
      "True\n"
     ]
    }
   ],
   "source": [
    "x = 5\n",
    "print(x > 3 or x < 4)"
   ]
  },
  {
   "cell_type": "code",
   "execution_count": 88,
   "id": "4fae426b",
   "metadata": {},
   "outputs": [
    {
     "name": "stdout",
     "output_type": "stream",
     "text": [
      "10\n",
      "10\n",
      "100\n"
     ]
    }
   ],
   "source": [
    "#In the case of arithematic values, logical or always returns the first values\n",
    "print(10 or 20)\n",
    "print(10 or 5)\n",
    "print(100 or 300)"
   ]
  },
  {
   "cell_type": "code",
   "execution_count": 89,
   "id": "dce7b2cc",
   "metadata": {},
   "outputs": [
    {
     "name": "stdout",
     "output_type": "stream",
     "text": [
      "False\n"
     ]
    }
   ],
   "source": [
    "x = 5\n",
    "print(not(x >3))"
   ]
  },
  {
   "cell_type": "code",
   "execution_count": 91,
   "id": "c82d257c",
   "metadata": {},
   "outputs": [
    {
     "name": "stdout",
     "output_type": "stream",
     "text": [
      "False\n",
      "True\n"
     ]
    }
   ],
   "source": [
    "print(not 10)\n",
    "print(not 0)"
   ]
  },
  {
   "cell_type": "markdown",
   "id": "c210d707",
   "metadata": {},
   "source": [
    "Membership Operator:\n",
    "\n",
    "1. in\n",
    "2. not in"
   ]
  },
  {
   "cell_type": "code",
   "execution_count": 92,
   "id": "16faaedd",
   "metadata": {},
   "outputs": [
    {
     "name": "stdout",
     "output_type": "stream",
     "text": [
      "True\n"
     ]
    }
   ],
   "source": [
    "#in operator\n",
    "x =[\"apple\",\"banana\"]\n",
    "print('banana' in x)"
   ]
  },
  {
   "cell_type": "code",
   "execution_count": 93,
   "id": "28e3178d",
   "metadata": {},
   "outputs": [
    {
     "name": "stdout",
     "output_type": "stream",
     "text": [
      "True\n"
     ]
    }
   ],
   "source": [
    "#not in operator\n",
    "x = ['apple','banana']\n",
    "print('cherry' not in x)"
   ]
  },
  {
   "cell_type": "markdown",
   "id": "8c945c23",
   "metadata": {},
   "source": [
    "Identit Operator\n",
    "\n",
    "1. is\n",
    "2. is not"
   ]
  },
  {
   "cell_type": "code",
   "execution_count": 94,
   "id": "a557462b",
   "metadata": {},
   "outputs": [
    {
     "name": "stdout",
     "output_type": "stream",
     "text": [
      "False\n",
      "True\n"
     ]
    }
   ],
   "source": [
    "#returns boolean values\n",
    "x = 10\n",
    "y = 11\n",
    "z = 10\n",
    "print(x is y)\n",
    "print(x is z)"
   ]
  },
  {
   "cell_type": "code",
   "execution_count": 95,
   "id": "da0afa59",
   "metadata": {},
   "outputs": [
    {
     "name": "stdout",
     "output_type": "stream",
     "text": [
      "True\n",
      "False\n"
     ]
    }
   ],
   "source": [
    "x = 10\n",
    "y = 11\n",
    "z = 10\n",
    "print(x is not y)\n",
    "print(x is not z)"
   ]
  },
  {
   "cell_type": "markdown",
   "id": "79a900b4",
   "metadata": {},
   "source": [
    "Bitwise Operator\n",
    "\n",
    "1. & bitwise operator(and)\n",
    "2. | bitwise operator(or)\n",
    "3. ^ bitwise operator(xor)"
   ]
  },
  {
   "cell_type": "code",
   "execution_count": 97,
   "id": "eb1da852",
   "metadata": {},
   "outputs": [
    {
     "name": "stdout",
     "output_type": "stream",
     "text": [
      "4\n",
      "4\n",
      "5\n"
     ]
    }
   ],
   "source": [
    "#& operator\n",
    "a = 7\n",
    "b = 4\n",
    "c = 5\n",
    "print(a & b)\n",
    "print(b & c)\n",
    "print(a & c)"
   ]
  },
  {
   "cell_type": "code",
   "execution_count": 98,
   "id": "f0cb1ac3",
   "metadata": {},
   "outputs": [
    {
     "name": "stdout",
     "output_type": "stream",
     "text": [
      "7\n",
      "5\n",
      "7\n"
     ]
    }
   ],
   "source": [
    "#or operator\n",
    "a = 7\n",
    "b = 4\n",
    "c = 5\n",
    "print(a | b)\n",
    "print(b | c)\n",
    "print(a | c)"
   ]
  },
  {
   "cell_type": "code",
   "execution_count": 99,
   "id": "fa98a43c",
   "metadata": {},
   "outputs": [
    {
     "name": "stdout",
     "output_type": "stream",
     "text": [
      "3\n",
      "1\n",
      "2\n"
     ]
    }
   ],
   "source": [
    "#xor operator\n",
    "a = 7\n",
    "b = 4\n",
    "c = 5\n",
    "print(a ^ b)\n",
    "print(b ^ c)\n",
    "print(a ^ c)"
   ]
  },
  {
   "cell_type": "code",
   "execution_count": null,
   "id": "7b7276d6",
   "metadata": {},
   "outputs": [],
   "source": []
  }
 ],
 "metadata": {
  "kernelspec": {
   "display_name": "Python 3 (ipykernel)",
   "language": "python",
   "name": "python3"
  },
  "language_info": {
   "codemirror_mode": {
    "name": "ipython",
    "version": 3
   },
   "file_extension": ".py",
   "mimetype": "text/x-python",
   "name": "python",
   "nbconvert_exporter": "python",
   "pygments_lexer": "ipython3",
   "version": "3.9.7"
  }
 },
 "nbformat": 4,
 "nbformat_minor": 5
}
