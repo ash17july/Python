{
 "cells": [
  {
   "cell_type": "markdown",
   "id": "d7d25094",
   "metadata": {},
   "source": [
    "# List :\n",
    "The list is the collection of different type of items.\n",
    "properties:\n",
    "1.mutable : List is changeable.\n",
    "2.ordere :list are arrange in indexing. \n",
    "3.heterogous :different type of data types.\n",
    "4.duplicate :accepts the duplicates values."
   ]
  },
  {
   "cell_type": "code",
   "execution_count": 8,
   "id": "355f8933",
   "metadata": {},
   "outputs": [
    {
     "data": {
      "text/plain": [
       "'Computer'"
      ]
     },
     "execution_count": 8,
     "metadata": {},
     "output_type": "execute_result"
    }
   ],
   "source": [
    "#List of your name ,age ,field, education, location using [] and list constructor.\n",
    "My_list1 = [\"Vaishnavi\", \"23.5\", \"Computer\", \"Engineering\", \"Palghar\"]\n",
    "My_list1[2]\n",
    "\n"
   ]
  },
  {
   "cell_type": "code",
   "execution_count": 10,
   "id": "0e930c2d",
   "metadata": {},
   "outputs": [
    {
     "data": {
      "text/plain": [
       "7"
      ]
     },
     "execution_count": 10,
     "metadata": {},
     "output_type": "execute_result"
    }
   ],
   "source": [
    "len(\"Palghar\")"
   ]
  },
  {
   "cell_type": "code",
   "execution_count": null,
   "id": "86e01530",
   "metadata": {},
   "outputs": [],
   "source": [
    "# 4"
   ]
  },
  {
   "cell_type": "code",
   "execution_count": 11,
   "id": "86648b57",
   "metadata": {},
   "outputs": [
    {
     "data": {
      "text/plain": [
       "['23.5', 'Computer']"
      ]
     },
     "execution_count": 11,
     "metadata": {},
     "output_type": "execute_result"
    }
   ],
   "source": [
    "My_list1[1:3]"
   ]
  },
  {
   "cell_type": "code",
   "execution_count": null,
   "id": "bd1edc6d",
   "metadata": {},
   "outputs": [],
   "source": [
    "# 5"
   ]
  },
  {
   "cell_type": "code",
   "execution_count": 25,
   "id": "8142113b",
   "metadata": {},
   "outputs": [],
   "source": [
    "My_list1 = [\"Vaishnavi\", \"23.5\", \"Computer\", \"Engineering\", \"Palghar\"]\n",
    "My_list1[0]= \"Akre\""
   ]
  },
  {
   "cell_type": "code",
   "execution_count": 27,
   "id": "48426764",
   "metadata": {},
   "outputs": [],
   "source": [
    "My_list1[0]= \"Akre\""
   ]
  },
  {
   "cell_type": "code",
   "execution_count": 28,
   "id": "f15e9c3f",
   "metadata": {},
   "outputs": [
    {
     "data": {
      "text/plain": [
       "['Akre', '23.5', 'Computer', 'Engineering', 'Palghar']"
      ]
     },
     "execution_count": 28,
     "metadata": {},
     "output_type": "execute_result"
    }
   ],
   "source": [
    "My_list1"
   ]
  },
  {
   "cell_type": "code",
   "execution_count": null,
   "id": "67b80916",
   "metadata": {},
   "outputs": [],
   "source": [
    "# 6"
   ]
  },
  {
   "cell_type": "code",
   "execution_count": 31,
   "id": "e9279c83",
   "metadata": {},
   "outputs": [],
   "source": [
    "My_list1 = [\"Vaishnavi\", \"23.5\", \"Computer\", \"Engineering\", \"Palghar\"]"
   ]
  },
  {
   "cell_type": "code",
   "execution_count": 34,
   "id": "374afb0b",
   "metadata": {},
   "outputs": [],
   "source": [
    "My_list1[0]= \"komal\""
   ]
  },
  {
   "cell_type": "code",
   "execution_count": 35,
   "id": "2c441ada",
   "metadata": {},
   "outputs": [],
   "source": [
    "My_list1[1]= \"24.6\""
   ]
  },
  {
   "cell_type": "code",
   "execution_count": 36,
   "id": "56866ef8",
   "metadata": {},
   "outputs": [],
   "source": [
    "My_list1[2]= \"civil\""
   ]
  },
  {
   "cell_type": "code",
   "execution_count": 37,
   "id": "1d6ac87e",
   "metadata": {},
   "outputs": [
    {
     "data": {
      "text/plain": [
       "['komal', '24.6', 'civil', 'Engineering', 'Palghar']"
      ]
     },
     "execution_count": 37,
     "metadata": {},
     "output_type": "execute_result"
    }
   ],
   "source": [
    "My_list1"
   ]
  },
  {
   "cell_type": "code",
   "execution_count": null,
   "id": "440c4026",
   "metadata": {},
   "outputs": [],
   "source": [
    "# 7"
   ]
  },
  {
   "cell_type": "code",
   "execution_count": null,
   "id": "fe950d25",
   "metadata": {},
   "outputs": [],
   "source": [
    "My_list1 = [\"Vaishnavi\", \"23.5\", \"Computer\", \"Engineering\", \"Palghar\"]"
   ]
  },
  {
   "cell_type": "code",
   "execution_count": 38,
   "id": "967a250c",
   "metadata": {},
   "outputs": [],
   "source": [
    "My_list1[0]= \"Akre\""
   ]
  },
  {
   "cell_type": "code",
   "execution_count": 39,
   "id": "2a48d73c",
   "metadata": {},
   "outputs": [],
   "source": [
    "My_list1[1]= \"Akre\""
   ]
  },
  {
   "cell_type": "code",
   "execution_count": 40,
   "id": "a4f2e73f",
   "metadata": {},
   "outputs": [
    {
     "data": {
      "text/plain": [
       "['Akre', 'Akre', 'civil', 'Engineering', 'Palghar']"
      ]
     },
     "execution_count": 40,
     "metadata": {},
     "output_type": "execute_result"
    }
   ],
   "source": [
    "My_list1"
   ]
  },
  {
   "cell_type": "code",
   "execution_count": null,
   "id": "e66249ef",
   "metadata": {},
   "outputs": [],
   "source": [
    "# 8"
   ]
  },
  {
   "cell_type": "code",
   "execution_count": 46,
   "id": "80a68173",
   "metadata": {},
   "outputs": [],
   "source": [
    "My_list1 = [\"Vaishnavi\", \"23.5\", \"Computer\", \"Engineering\", \"Palghar\"]"
   ]
  },
  {
   "cell_type": "code",
   "execution_count": 47,
   "id": "1fab6010",
   "metadata": {},
   "outputs": [],
   "source": [
    "My_list1[0]= \"vaishu\""
   ]
  },
  {
   "cell_type": "code",
   "execution_count": 48,
   "id": "cf6b9fd3",
   "metadata": {},
   "outputs": [],
   "source": [
    "My_list1.append(\"Akre\")"
   ]
  },
  {
   "cell_type": "code",
   "execution_count": 49,
   "id": "9d835f57",
   "metadata": {},
   "outputs": [
    {
     "data": {
      "text/plain": [
       "['vaishu', '23.5', 'Computer', 'Engineering', 'Palghar', 'Akre']"
      ]
     },
     "execution_count": 49,
     "metadata": {},
     "output_type": "execute_result"
    }
   ],
   "source": [
    "My_list1"
   ]
  },
  {
   "cell_type": "code",
   "execution_count": 50,
   "id": "32c318b8",
   "metadata": {},
   "outputs": [],
   "source": [
    "# 9"
   ]
  },
  {
   "cell_type": "code",
   "execution_count": 51,
   "id": "75704108",
   "metadata": {},
   "outputs": [],
   "source": [
    "My_list1 = [\"Vaishnavi\", \"23.5\", \"Computer\", \"Engineering\", \"Palghar\"]"
   ]
  },
  {
   "cell_type": "code",
   "execution_count": 52,
   "id": "66f873ed",
   "metadata": {},
   "outputs": [],
   "source": [
    "My_list1.insert(1,\"Akre\")"
   ]
  },
  {
   "cell_type": "code",
   "execution_count": 53,
   "id": "2e21a9cb",
   "metadata": {},
   "outputs": [
    {
     "data": {
      "text/plain": [
       "['Vaishnavi', 'Akre', '23.5', 'Computer', 'Engineering', 'Palghar']"
      ]
     },
     "execution_count": 53,
     "metadata": {},
     "output_type": "execute_result"
    }
   ],
   "source": [
    "My_list1"
   ]
  },
  {
   "cell_type": "code",
   "execution_count": 54,
   "id": "350831bb",
   "metadata": {},
   "outputs": [],
   "source": [
    "# 10"
   ]
  },
  {
   "cell_type": "code",
   "execution_count": 55,
   "id": "8e2a2a6f",
   "metadata": {},
   "outputs": [],
   "source": [
    "My_list1 = [\"Vaishnavi\", \"23.5\", \"Computer\", \"Engineering\", \"Palghar\"]"
   ]
  },
  {
   "cell_type": "code",
   "execution_count": 56,
   "id": "8ee81708",
   "metadata": {},
   "outputs": [],
   "source": [
    "My_list1.append(\"playing\")"
   ]
  },
  {
   "cell_type": "code",
   "execution_count": 57,
   "id": "21d8447a",
   "metadata": {},
   "outputs": [
    {
     "data": {
      "text/plain": [
       "['Vaishnavi', '23.5', 'Computer', 'Engineering', 'Palghar', 'playing']"
      ]
     },
     "execution_count": 57,
     "metadata": {},
     "output_type": "execute_result"
    }
   ],
   "source": [
    "My_list1"
   ]
  },
  {
   "cell_type": "code",
   "execution_count": 58,
   "id": "288e8de0",
   "metadata": {},
   "outputs": [],
   "source": [
    "# 11"
   ]
  },
  {
   "cell_type": "code",
   "execution_count": 59,
   "id": "3f03f8ed",
   "metadata": {},
   "outputs": [],
   "source": [
    "My_list1 = [\"Vaishnavi\", \"23.5\", \"Computer\", \"Engineering\", \"Palghar\"]"
   ]
  },
  {
   "cell_type": "code",
   "execution_count": 60,
   "id": "f88203a3",
   "metadata": {},
   "outputs": [],
   "source": [
    "My_list1.append([\"playing\", \"dancing\", \"reading\"])"
   ]
  },
  {
   "cell_type": "code",
   "execution_count": 61,
   "id": "8aa476d9",
   "metadata": {},
   "outputs": [
    {
     "data": {
      "text/plain": [
       "['Vaishnavi',\n",
       " '23.5',\n",
       " 'Computer',\n",
       " 'Engineering',\n",
       " 'Palghar',\n",
       " ['playing', 'dancing', 'reading']]"
      ]
     },
     "execution_count": 61,
     "metadata": {},
     "output_type": "execute_result"
    }
   ],
   "source": [
    "My_list1"
   ]
  },
  {
   "cell_type": "code",
   "execution_count": 62,
   "id": "b1dfc8f5",
   "metadata": {},
   "outputs": [],
   "source": [
    "# 12"
   ]
  },
  {
   "cell_type": "code",
   "execution_count": 63,
   "id": "0d933df1",
   "metadata": {},
   "outputs": [],
   "source": [
    "My_list1 = [\"Vaishnavi\", \"23.5\", \"Computer\", \"Engineering\", \"Palghar\"]"
   ]
  },
  {
   "cell_type": "code",
   "execution_count": 64,
   "id": "1ba8a621",
   "metadata": {},
   "outputs": [],
   "source": [
    "My_list1.remove(\"Palghar\")"
   ]
  },
  {
   "cell_type": "code",
   "execution_count": 65,
   "id": "dab17fcf",
   "metadata": {},
   "outputs": [
    {
     "data": {
      "text/plain": [
       "['Vaishnavi', '23.5', 'Computer', 'Engineering']"
      ]
     },
     "execution_count": 65,
     "metadata": {},
     "output_type": "execute_result"
    }
   ],
   "source": [
    "My_list1"
   ]
  },
  {
   "cell_type": "code",
   "execution_count": 66,
   "id": "bf71cac2",
   "metadata": {},
   "outputs": [],
   "source": [
    "# 13"
   ]
  },
  {
   "cell_type": "code",
   "execution_count": 67,
   "id": "3188f462",
   "metadata": {},
   "outputs": [],
   "source": [
    "My_list1 = [\"Vaishnavi\", \"23.5\", \"Computer\", \"Engineering\", \"Palghar\"]"
   ]
  },
  {
   "cell_type": "code",
   "execution_count": 68,
   "id": "91c1b6ad",
   "metadata": {},
   "outputs": [],
   "source": [
    "My_list1.remove(\"23.5\")"
   ]
  },
  {
   "cell_type": "code",
   "execution_count": 69,
   "id": "0e242e2b",
   "metadata": {},
   "outputs": [
    {
     "data": {
      "text/plain": [
       "['Vaishnavi', 'Computer', 'Engineering', 'Palghar']"
      ]
     },
     "execution_count": 69,
     "metadata": {},
     "output_type": "execute_result"
    }
   ],
   "source": [
    "My_list1"
   ]
  },
  {
   "cell_type": "code",
   "execution_count": 73,
   "id": "5204cd63",
   "metadata": {},
   "outputs": [],
   "source": [
    "My_list1 = [\"Vaishnavi\", \"23.5\", \"Computer\", \"Engineering\", \"Palghar\"]"
   ]
  },
  {
   "cell_type": "code",
   "execution_count": 74,
   "id": "3c989cd9",
   "metadata": {},
   "outputs": [
    {
     "data": {
      "text/plain": [
       "'23.5'"
      ]
     },
     "execution_count": 74,
     "metadata": {},
     "output_type": "execute_result"
    }
   ],
   "source": [
    "My_list1.pop(1)"
   ]
  },
  {
   "cell_type": "code",
   "execution_count": 75,
   "id": "19b8796b",
   "metadata": {},
   "outputs": [],
   "source": [
    "# 14"
   ]
  },
  {
   "cell_type": "code",
   "execution_count": 76,
   "id": "ab641b61",
   "metadata": {},
   "outputs": [],
   "source": [
    "My_list1 = [\"Vaishnavi\", \"23.5\", \"Computer\", \"Engineering\", \"Palghar\"]"
   ]
  },
  {
   "cell_type": "code",
   "execution_count": 77,
   "id": "b6d6c8c2",
   "metadata": {},
   "outputs": [],
   "source": [
    "My_list1.remove(\"Palghar\")"
   ]
  },
  {
   "cell_type": "code",
   "execution_count": 78,
   "id": "6859ea53",
   "metadata": {},
   "outputs": [
    {
     "data": {
      "text/plain": [
       "['Vaishnavi', '23.5', 'Computer', 'Engineering']"
      ]
     },
     "execution_count": 78,
     "metadata": {},
     "output_type": "execute_result"
    }
   ],
   "source": [
    "My_list1"
   ]
  },
  {
   "cell_type": "code",
   "execution_count": 79,
   "id": "bc671777",
   "metadata": {},
   "outputs": [],
   "source": [
    "# 15"
   ]
  },
  {
   "cell_type": "code",
   "execution_count": 80,
   "id": "09dad967",
   "metadata": {},
   "outputs": [],
   "source": [
    "My_list1 = [\"Vaishnavi\", \"23.5\", \"Computer\", \"Engineering\", \"Palghar\"]"
   ]
  },
  {
   "cell_type": "code",
   "execution_count": 82,
   "id": "63a29ab4",
   "metadata": {},
   "outputs": [],
   "source": [
    "del My_list1"
   ]
  },
  {
   "cell_type": "code",
   "execution_count": 83,
   "id": "d9141840",
   "metadata": {},
   "outputs": [
    {
     "ename": "NameError",
     "evalue": "name 'My_list1' is not defined",
     "output_type": "error",
     "traceback": [
      "\u001b[1;31m---------------------------------------------------------------------------\u001b[0m",
      "\u001b[1;31mNameError\u001b[0m                                 Traceback (most recent call last)",
      "\u001b[1;32mC:\\Users\\ADMINI~1\\AppData\\Local\\Temp/ipykernel_8496/4289269452.py\u001b[0m in \u001b[0;36m<module>\u001b[1;34m\u001b[0m\n\u001b[1;32m----> 1\u001b[1;33m \u001b[0mprint\u001b[0m\u001b[1;33m(\u001b[0m\u001b[0mMy_list1\u001b[0m\u001b[1;33m)\u001b[0m\u001b[1;33m\u001b[0m\u001b[1;33m\u001b[0m\u001b[0m\n\u001b[0m",
      "\u001b[1;31mNameError\u001b[0m: name 'My_list1' is not defined"
     ]
    }
   ],
   "source": [
    "print(My_list1)"
   ]
  },
  {
   "cell_type": "code",
   "execution_count": 84,
   "id": "66e51f6f",
   "metadata": {},
   "outputs": [],
   "source": [
    "# 16 "
   ]
  },
  {
   "cell_type": "code",
   "execution_count": 85,
   "id": "ae329e46",
   "metadata": {},
   "outputs": [],
   "source": [
    "My_list1 = [\"Vaishnavi\", \"23.5\", \"Computer\", \"Engineering\", \"Palghar\"]"
   ]
  },
  {
   "cell_type": "code",
   "execution_count": 87,
   "id": "19e163e3",
   "metadata": {},
   "outputs": [],
   "source": [
    "My_list1.clear()"
   ]
  },
  {
   "cell_type": "code",
   "execution_count": 88,
   "id": "0ccee537",
   "metadata": {},
   "outputs": [
    {
     "data": {
      "text/plain": [
       "[]"
      ]
     },
     "execution_count": 88,
     "metadata": {},
     "output_type": "execute_result"
    }
   ],
   "source": [
    "My_list1"
   ]
  },
  {
   "cell_type": "code",
   "execution_count": 89,
   "id": "7edc4e53",
   "metadata": {},
   "outputs": [],
   "source": [
    "# 17"
   ]
  },
  {
   "cell_type": "code",
   "execution_count": 90,
   "id": "844c7c83",
   "metadata": {},
   "outputs": [],
   "source": [
    "My_list3 = [\"2\",\"3\",\"5\",\"7\",\"11\",\"13\",\"17\",\"19\"]"
   ]
  },
  {
   "cell_type": "code",
   "execution_count": 91,
   "id": "28de731b",
   "metadata": {},
   "outputs": [
    {
     "data": {
      "text/plain": [
       "8"
      ]
     },
     "execution_count": 91,
     "metadata": {},
     "output_type": "execute_result"
    }
   ],
   "source": [
    "len(My_list3)"
   ]
  },
  {
   "cell_type": "code",
   "execution_count": 92,
   "id": "ebdfc504",
   "metadata": {},
   "outputs": [],
   "source": [
    "# 18"
   ]
  },
  {
   "cell_type": "code",
   "execution_count": 93,
   "id": "c9f8c981",
   "metadata": {},
   "outputs": [],
   "source": [
    "My_list4 = [5,2,18,7,12]"
   ]
  },
  {
   "cell_type": "code",
   "execution_count": 95,
   "id": "777b28a0",
   "metadata": {},
   "outputs": [],
   "source": [
    "My_list4.sort()"
   ]
  },
  {
   "cell_type": "code",
   "execution_count": 96,
   "id": "d1773260",
   "metadata": {},
   "outputs": [
    {
     "data": {
      "text/plain": [
       "[2, 5, 7, 12, 18]"
      ]
     },
     "execution_count": 96,
     "metadata": {},
     "output_type": "execute_result"
    }
   ],
   "source": [
    "My_list4"
   ]
  },
  {
   "cell_type": "code",
   "execution_count": 97,
   "id": "ab5853de",
   "metadata": {},
   "outputs": [],
   "source": [
    "My_list4.reverse()"
   ]
  },
  {
   "cell_type": "code",
   "execution_count": 98,
   "id": "758654f6",
   "metadata": {},
   "outputs": [
    {
     "data": {
      "text/plain": [
       "[18, 12, 7, 5, 2]"
      ]
     },
     "execution_count": 98,
     "metadata": {},
     "output_type": "execute_result"
    }
   ],
   "source": [
    "My_list4"
   ]
  },
  {
   "cell_type": "code",
   "execution_count": 99,
   "id": "447df3c0",
   "metadata": {},
   "outputs": [],
   "source": [
    "# 19"
   ]
  },
  {
   "cell_type": "code",
   "execution_count": 100,
   "id": "fbc61d2c",
   "metadata": {},
   "outputs": [],
   "source": [
    "My_list4 = [5,2,18,7,12]"
   ]
  },
  {
   "cell_type": "code",
   "execution_count": 101,
   "id": "2ed62740",
   "metadata": {},
   "outputs": [],
   "source": [
    "My_list4.extend([2,4,6,7,])"
   ]
  },
  {
   "cell_type": "code",
   "execution_count": 102,
   "id": "35467ef0",
   "metadata": {},
   "outputs": [
    {
     "data": {
      "text/plain": [
       "[5, 2, 18, 7, 12, 2, 4, 6, 7]"
      ]
     },
     "execution_count": 102,
     "metadata": {},
     "output_type": "execute_result"
    }
   ],
   "source": [
    "My_list4"
   ]
  },
  {
   "cell_type": "code",
   "execution_count": 103,
   "id": "e372d404",
   "metadata": {},
   "outputs": [],
   "source": [
    "# 20"
   ]
  },
  {
   "cell_type": "code",
   "execution_count": 104,
   "id": "27ffad61",
   "metadata": {},
   "outputs": [],
   "source": [
    "My_list4 = [5,2,18,7,12]"
   ]
  },
  {
   "cell_type": "code",
   "execution_count": 110,
   "id": "32a6593c",
   "metadata": {},
   "outputs": [],
   "source": [
    "new_list =My_list4 "
   ]
  },
  {
   "cell_type": "code",
   "execution_count": 111,
   "id": "5c67739e",
   "metadata": {},
   "outputs": [
    {
     "name": "stdout",
     "output_type": "stream",
     "text": [
      "[5, 2, 18, 7, 12]\n"
     ]
    }
   ],
   "source": [
    "print(new_list)"
   ]
  },
  {
   "cell_type": "code",
   "execution_count": 112,
   "id": "bca988e6",
   "metadata": {},
   "outputs": [
    {
     "name": "stdout",
     "output_type": "stream",
     "text": [
      "[5, 2, 18, 7, 12]\n"
     ]
    }
   ],
   "source": [
    "print(My_list4)"
   ]
  },
  {
   "cell_type": "code",
   "execution_count": 113,
   "id": "22ea61aa",
   "metadata": {},
   "outputs": [],
   "source": [
    "# 21"
   ]
  },
  {
   "cell_type": "code",
   "execution_count": 114,
   "id": "23d86339",
   "metadata": {},
   "outputs": [],
   "source": [
    "My_list4 = [5,2,18,7,12]"
   ]
  },
  {
   "cell_type": "code",
   "execution_count": 115,
   "id": "6dd57b0a",
   "metadata": {},
   "outputs": [],
   "source": [
    "new_list= My_list4.copy()"
   ]
  },
  {
   "cell_type": "code",
   "execution_count": 116,
   "id": "d037b9fa",
   "metadata": {},
   "outputs": [
    {
     "data": {
      "text/plain": [
       "[5, 2, 18, 7, 12]"
      ]
     },
     "execution_count": 116,
     "metadata": {},
     "output_type": "execute_result"
    }
   ],
   "source": [
    "My_list4"
   ]
  },
  {
   "cell_type": "code",
   "execution_count": null,
   "id": "4db7f2c0",
   "metadata": {},
   "outputs": [],
   "source": []
  }
 ],
 "metadata": {
  "kernelspec": {
   "display_name": "Python 3 (ipykernel)",
   "language": "python",
   "name": "python3"
  },
  "language_info": {
   "codemirror_mode": {
    "name": "ipython",
    "version": 3
   },
   "file_extension": ".py",
   "mimetype": "text/x-python",
   "name": "python",
   "nbconvert_exporter": "python",
   "pygments_lexer": "ipython3",
   "version": "3.9.7"
  }
 },
 "nbformat": 4,
 "nbformat_minor": 5
}
