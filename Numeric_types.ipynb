{
 "cells": [
  {
   "cell_type": "code",
   "execution_count": 1,
   "id": "1c440478",
   "metadata": {},
   "outputs": [],
   "source": [
    "#Numeric data in python os generally in three formats namely integer, float and Complex"
   ]
  },
  {
   "cell_type": "code",
   "execution_count": 4,
   "id": "17bfa12b",
   "metadata": {},
   "outputs": [
    {
     "name": "stdout",
     "output_type": "stream",
     "text": [
      "Roll_no is : 33\n",
      "<class 'int'>\n"
     ]
    }
   ],
   "source": [
    "roll_no = 33\n",
    "print(\"Roll_no is :\",roll_no)\n",
    "print(type(roll_no))"
   ]
  },
  {
   "cell_type": "code",
   "execution_count": 6,
   "id": "732f12bf",
   "metadata": {},
   "outputs": [
    {
     "name": "stdout",
     "output_type": "stream",
     "text": [
      "25\n",
      "<class 'int'>\n"
     ]
    }
   ],
   "source": [
    "#Create integer using int() class\n",
    "id = int(25)\n",
    "print(id)\n",
    "print(type(id))"
   ]
  },
  {
   "cell_type": "code",
   "execution_count": 7,
   "id": "f7b0fec5",
   "metadata": {},
   "outputs": [
    {
     "name": "stdout",
     "output_type": "stream",
     "text": [
      "<class 'int'>\n",
      "<class 'float'>\n"
     ]
    }
   ],
   "source": [
    "#data types\n",
    "x = 9999\n",
    "y = 99.99\n",
    "print(type(x))\n",
    "print(type(y))"
   ]
  },
  {
   "cell_type": "code",
   "execution_count": 8,
   "id": "110da6ed",
   "metadata": {},
   "outputs": [
    {
     "data": {
      "text/plain": [
       "(1+0j)"
      ]
     },
     "execution_count": 8,
     "metadata": {},
     "output_type": "execute_result"
    }
   ],
   "source": [
    "#Complex numbers do have a real and imaginary parts\n",
    "#it has separate module called(Math with functions)\n",
    "complex(1)"
   ]
  },
  {
   "cell_type": "code",
   "execution_count": 10,
   "id": "108cb1c4",
   "metadata": {},
   "outputs": [
    {
     "data": {
      "text/plain": [
       "(1-2j)"
      ]
     },
     "execution_count": 10,
     "metadata": {},
     "output_type": "execute_result"
    }
   ],
   "source": [
    "complex(1,-2)"
   ]
  },
  {
   "cell_type": "code",
   "execution_count": 12,
   "id": "5502f5af",
   "metadata": {},
   "outputs": [
    {
     "name": "stdout",
     "output_type": "stream",
     "text": [
      "1.0\n",
      "2\n",
      "(1+0j)\n",
      "<class 'float'>\n",
      "<class 'int'>\n",
      "<class 'complex'>\n"
     ]
    }
   ],
   "source": [
    "x = 1\n",
    "y = 2.8\n",
    "z = 1j\n",
    "#convert int to float\n",
    "a = float(x)\n",
    "#convert float to int\n",
    "b = int(y)\n",
    "#Convert int to complex\n",
    "c = complex(x)\n",
    "\n",
    "print(a)\n",
    "print(b)\n",
    "print(c)\n",
    "\n",
    "print(type(a))\n",
    "print(type(b))\n",
    "print(type(c))"
   ]
  },
  {
   "cell_type": "code",
   "execution_count": 13,
   "id": "1dcc2c58",
   "metadata": {},
   "outputs": [
    {
     "name": "stdout",
     "output_type": "stream",
     "text": [
      "In binary form : 0b10100\n",
      "In hexa decimal form : 0x14\n",
      "In octal form : 0o24\n"
     ]
    }
   ],
   "source": [
    "i = 20\n",
    "print(\"In binary form :\",bin(i))\n",
    "print(\"In hexa decimal form :\",hex(i))\n",
    "print(\"In octal form :\",oct(i))"
   ]
  },
  {
   "cell_type": "code",
   "execution_count": 16,
   "id": "edbf9e5d",
   "metadata": {},
   "outputs": [
    {
     "name": "stdout",
     "output_type": "stream",
     "text": [
      "<class 'int'>\n",
      "<class 'float'>\n",
      "100.111\n",
      "<class 'float'>\n"
     ]
    }
   ],
   "source": [
    "#Type Casting\n",
    "x = 99\n",
    "y = 1.111\n",
    "\n",
    "#data in int and float\n",
    "print(type(x))\n",
    "print(type(y))\n",
    "\n",
    "#Addition\n",
    "z = x+y\n",
    "print(z)\n",
    "\n",
    "#type after addition\n",
    "print(type(z))"
   ]
  },
  {
   "cell_type": "code",
   "execution_count": 22,
   "id": "eb38fc11",
   "metadata": {},
   "outputs": [
    {
     "data": {
      "text/plain": [
       "123"
      ]
     },
     "execution_count": 22,
     "metadata": {},
     "output_type": "execute_result"
    }
   ],
   "source": [
    "#Explicit type Conversion\n",
    "int(123.654)"
   ]
  },
  {
   "cell_type": "code",
   "execution_count": 23,
   "id": "da1c262e",
   "metadata": {},
   "outputs": [
    {
     "data": {
      "text/plain": [
       "10"
      ]
     },
     "execution_count": 23,
     "metadata": {},
     "output_type": "execute_result"
    }
   ],
   "source": [
    "int('10')"
   ]
  },
  {
   "cell_type": "code",
   "execution_count": 25,
   "id": "ab81b576",
   "metadata": {},
   "outputs": [
    {
     "ename": "ValueError",
     "evalue": "invalid literal for int() with base 10: '10.5'",
     "output_type": "error",
     "traceback": [
      "\u001b[1;31m---------------------------------------------------------------------------\u001b[0m",
      "\u001b[1;31mValueError\u001b[0m                                Traceback (most recent call last)",
      "\u001b[1;32mC:\\Users\\ADMINI~1\\AppData\\Local\\Temp/ipykernel_10968/4169780136.py\u001b[0m in \u001b[0;36m<module>\u001b[1;34m\u001b[0m\n\u001b[1;32m----> 1\u001b[1;33m \u001b[0mint\u001b[0m\u001b[1;33m(\u001b[0m\u001b[1;34m'10.5'\u001b[0m\u001b[1;33m)\u001b[0m\u001b[1;33m\u001b[0m\u001b[1;33m\u001b[0m\u001b[0m\n\u001b[0m",
      "\u001b[1;31mValueError\u001b[0m: invalid literal for int() with base 10: '10.5'"
     ]
    }
   ],
   "source": [
    "int('10.5')"
   ]
  },
  {
   "cell_type": "code",
   "execution_count": 26,
   "id": "8adc1ea0",
   "metadata": {},
   "outputs": [
    {
     "ename": "ValueError",
     "evalue": "invalid literal for int() with base 10: 'ten'",
     "output_type": "error",
     "traceback": [
      "\u001b[1;31m---------------------------------------------------------------------------\u001b[0m",
      "\u001b[1;31mValueError\u001b[0m                                Traceback (most recent call last)",
      "\u001b[1;32mC:\\Users\\ADMINI~1\\AppData\\Local\\Temp/ipykernel_10968/3170945453.py\u001b[0m in \u001b[0;36m<module>\u001b[1;34m\u001b[0m\n\u001b[1;32m----> 1\u001b[1;33m \u001b[0mint\u001b[0m\u001b[1;33m(\u001b[0m\u001b[1;34m'ten'\u001b[0m\u001b[1;33m)\u001b[0m\u001b[1;33m\u001b[0m\u001b[1;33m\u001b[0m\u001b[0m\n\u001b[0m",
      "\u001b[1;31mValueError\u001b[0m: invalid literal for int() with base 10: 'ten'"
     ]
    }
   ],
   "source": [
    "int('ten')"
   ]
  },
  {
   "cell_type": "code",
   "execution_count": 27,
   "id": "0f535000",
   "metadata": {},
   "outputs": [
    {
     "name": "stdout",
     "output_type": "stream",
     "text": [
      "Apple99\n"
     ]
    }
   ],
   "source": [
    "#Concatenating int and string type\n",
    "i = 99\n",
    "s = 'Apple'\n",
    "print(s+str(i))"
   ]
  },
  {
   "cell_type": "code",
   "execution_count": 31,
   "id": "07d674b2",
   "metadata": {},
   "outputs": [
    {
     "name": "stdout",
     "output_type": "stream",
     "text": [
      "1\n"
     ]
    }
   ],
   "source": [
    "#Python defines set of functions that are use to generate or manipulate random numbers through the\n",
    "#random modules\n",
    "import random\n",
    "list1 = [1, 2, 3, 4, 5, 6]\n",
    "print(random.choice(list1))"
   ]
  },
  {
   "cell_type": "code",
   "execution_count": 34,
   "id": "c5451fac",
   "metadata": {},
   "outputs": [
    {
     "name": "stdout",
     "output_type": "stream",
     "text": [
      "A random number from list is :8\n"
     ]
    }
   ],
   "source": [
    "#Using choice() to generate random number from a given list\n",
    "import random\n",
    "print(\"A random number from list is :\",end='')\n",
    "print(random.choice([1,4,8,10,3]))"
   ]
  },
  {
   "cell_type": "code",
   "execution_count": 37,
   "id": "631b84d7",
   "metadata": {},
   "outputs": [
    {
     "name": "stdout",
     "output_type": "stream",
     "text": [
      "A random range number from list is :23\n"
     ]
    }
   ],
   "source": [
    "#Using range()\n",
    "import random\n",
    "print(\"A random range number from list is :\",end='')\n",
    "print(random.randrange(20,50,3))"
   ]
  }
 ],
 "metadata": {
  "kernelspec": {
   "display_name": "Python 3 (ipykernel)",
   "language": "python",
   "name": "python3"
  },
  "language_info": {
   "codemirror_mode": {
    "name": "ipython",
    "version": 3
   },
   "file_extension": ".py",
   "mimetype": "text/x-python",
   "name": "python",
   "nbconvert_exporter": "python",
   "pygments_lexer": "ipython3",
   "version": "3.9.7"
  }
 },
 "nbformat": 4,
 "nbformat_minor": 5
}
